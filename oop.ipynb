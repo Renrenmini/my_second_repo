{
 "cells": [
  {
   "cell_type": "code",
   "execution_count": 3,
   "metadata": {
    "collapsed": true
   },
   "outputs": [],
   "source": [
    "class Animal:\n",
    "    pass"
   ]
  },
  {
   "cell_type": "code",
   "execution_count": 4,
   "metadata": {
    "collapsed": true
   },
   "outputs": [],
   "source": [
    "dog1 = Animal()"
   ]
  },
  {
   "cell_type": "code",
   "execution_count": 5,
   "metadata": {
    "collapsed": true
   },
   "outputs": [],
   "source": [
    "cat1 = Animal()"
   ]
  },
  {
   "cell_type": "code",
   "execution_count": 6,
   "metadata": {
    "collapsed": false
   },
   "outputs": [
    {
     "data": {
      "text/plain": [
       "True"
      ]
     },
     "execution_count": 6,
     "metadata": {},
     "output_type": "execute_result"
    }
   ],
   "source": [
    "isinstance(dog1, Animal)"
   ]
  },
  {
   "cell_type": "code",
   "execution_count": 30,
   "metadata": {
    "collapsed": false
   },
   "outputs": [],
   "source": [
    "class Animal:\n",
    "    def __init__(self, name, weight):\n",
    "        self.name = name\n",
    "        self.weight = weight\n",
    "        \n",
    "    def sleep(self):\n",
    "        print self.name, \"is sleeping\"\n",
    "    def eat(self,food):\n",
    "        if self.weight < 10:\n",
    "            print\"I am eating\", food\n",
    "            self.weight += 1\n",
    "        else:\n",
    "            print \"no thanks\""
   ]
  },
  {
   "cell_type": "code",
   "execution_count": 31,
   "metadata": {
    "collapsed": false
   },
   "outputs": [],
   "source": [
    "dog1 = Animal(\"doggy\", 1)"
   ]
  },
  {
   "cell_type": "code",
   "execution_count": 32,
   "metadata": {
    "collapsed": false
   },
   "outputs": [
    {
     "name": "stdout",
     "output_type": "stream",
     "text": [
      "doggy is sleeping\n"
     ]
    }
   ],
   "source": [
    "dog1.sleep()"
   ]
  },
  {
   "cell_type": "code",
   "execution_count": 33,
   "metadata": {
    "collapsed": false
   },
   "outputs": [
    {
     "name": "stdout",
     "output_type": "stream",
     "text": [
      "I am eating banana\n"
     ]
    }
   ],
   "source": [
    "dog1.eat(\"banana\")"
   ]
  },
  {
   "cell_type": "code",
   "execution_count": 34,
   "metadata": {
    "collapsed": false
   },
   "outputs": [
    {
     "data": {
      "text/plain": [
       "2"
      ]
     },
     "execution_count": 34,
     "metadata": {},
     "output_type": "execute_result"
    }
   ],
   "source": [
    "dog1.weight"
   ]
  },
  {
   "cell_type": "code",
   "execution_count": 35,
   "metadata": {
    "collapsed": false
   },
   "outputs": [
    {
     "name": "stdout",
     "output_type": "stream",
     "text": [
      "I am eating apple\n"
     ]
    }
   ],
   "source": [
    "dog1.eat(\"apple\")"
   ]
  },
  {
   "cell_type": "code",
   "execution_count": 36,
   "metadata": {
    "collapsed": false
   },
   "outputs": [
    {
     "data": {
      "text/plain": [
       "3"
      ]
     },
     "execution_count": 36,
     "metadata": {},
     "output_type": "execute_result"
    }
   ],
   "source": [
    "dog1.weight"
   ]
  },
  {
   "cell_type": "code",
   "execution_count": 85,
   "metadata": {
    "collapsed": false
   },
   "outputs": [],
   "source": [
    "class Animal:\n",
    "    def __init__(self, name, weight):\n",
    "        self.name = name\n",
    "        self.__weight__ = weight\n",
    "        \n",
    "    def __add__(self, other):\n",
    "        return Animal(self.name+\"x\"+other.name,\n",
    "                    self.__weight__+other.__weight__)\n",
    "    \n",
    "    def __repr__(self):\n",
    "        return \"My name is \" + self.name\n",
    "    \n",
    "    def __str__(self):\n",
    "        return \"Animal \" + self.name\n",
    "    \n",
    "    def sleep(self):\n",
    "        print self.name, \"is sleeping\"\n",
    "        \n",
    "    def eat(self,food):\n",
    "        if self.__weight__ < 10:\n",
    "            print \"I am eating\", food\n",
    "            self.__weight__ += 1\n",
    "        else:\n",
    "            print \"no thanks\""
   ]
  },
  {
   "cell_type": "code",
   "execution_count": 91,
   "metadata": {
    "collapsed": false
   },
   "outputs": [],
   "source": [
    "dog1 = Animal(\"doggy jr\", 1)\n",
    "cat1 = Animal(\"kitty\", 1)"
   ]
  },
  {
   "cell_type": "code",
   "execution_count": 92,
   "metadata": {
    "collapsed": false
   },
   "outputs": [
    {
     "data": {
      "text/plain": [
       "My name is doggy jr"
      ]
     },
     "execution_count": 92,
     "metadata": {},
     "output_type": "execute_result"
    }
   ],
   "source": [
    "dog1"
   ]
  },
  {
   "cell_type": "code",
   "execution_count": 93,
   "metadata": {
    "collapsed": false
   },
   "outputs": [
    {
     "name": "stdout",
     "output_type": "stream",
     "text": [
      "Animal doggy jr\n"
     ]
    }
   ],
   "source": [
    "print dog1"
   ]
  },
  {
   "cell_type": "code",
   "execution_count": 94,
   "metadata": {
    "collapsed": false
   },
   "outputs": [
    {
     "data": {
      "text/plain": [
       "My name is doggy jrxkitty"
      ]
     },
     "execution_count": 94,
     "metadata": {},
     "output_type": "execute_result"
    }
   ],
   "source": [
    "dog1 + cat1"
   ]
  },
  {
   "cell_type": "code",
   "execution_count": 95,
   "metadata": {
    "collapsed": false
   },
   "outputs": [
    {
     "name": "stdout",
     "output_type": "stream",
     "text": [
      "I am eating Animal kitty\n"
     ]
    }
   ],
   "source": [
    "dog1.eat(cat1)"
   ]
  },
  {
   "cell_type": "code",
   "execution_count": 118,
   "metadata": {
    "collapsed": true
   },
   "outputs": [],
   "source": [
    "class Animal:\n",
    "    def __init__(self, name, weight):\n",
    "        self.name = name\n",
    "        self.__weight__ = weight\n",
    "    \n",
    "    def __add__(self, other):\n",
    "        return Animal(self.name+\"x\"+other.name, \n",
    "                      self.__weight__+other.__weight__)\n",
    "    \n",
    "    def __repr__(self):\n",
    "        return \"My name is \"+self.name\n",
    "    \n",
    "    def __str__(self):\n",
    "        return \"Animal: \"+self.name\n",
    "    \n",
    "    def sleep(self):\n",
    "        print self.name, \"is sleeping\"\n",
    "        \n",
    "    def eat(self, food):\n",
    "        if self.__weight__ < 10:\n",
    "            print \"I am eating\", food\n",
    "            self.__weight__ += 1\n",
    "        else:\n",
    "            print \"no thanks\""
   ]
  },
  {
   "cell_type": "code",
   "execution_count": 121,
   "metadata": {
    "collapsed": true
   },
   "outputs": [],
   "source": [
    "class Bird(Animal):\n",
    "    def __init__(self, name, weight):\n",
    "        Animal.__init__(self, name, weight)\n",
    "        self.name = \"!\"+self.name+\"!\"\n",
    "    def fly(self):\n",
    "        print\"look,\", self.name, \"is flying\"\n",
    "    def __str__(self):\n",
    "        return \"Bird: \"+self.name\n",
    "\n",
    "class Fish(Animal):\n",
    "    def swin(self):\n",
    "        print\"I am swimming\"\n",
    "    def __str__(self):\n",
    "        return \"Fish: \"+self.name"
   ]
  },
  {
   "cell_type": "code",
   "execution_count": 122,
   "metadata": {
    "collapsed": false
   },
   "outputs": [],
   "source": [
    "bird1 = Bird(\"birdy\", 1)\n",
    "fish1 = Fish(\"fishy\", 1)"
   ]
  },
  {
   "cell_type": "code",
   "execution_count": 125,
   "metadata": {
    "collapsed": false
   },
   "outputs": [
    {
     "name": "stdout",
     "output_type": "stream",
     "text": [
      "I am eating Fish: fishy\n"
     ]
    }
   ],
   "source": [
    "bird1.eat(fish1)"
   ]
  },
  {
   "cell_type": "code",
   "execution_count": 124,
   "metadata": {
    "collapsed": false
   },
   "outputs": [
    {
     "name": "stdout",
     "output_type": "stream",
     "text": [
      "look, !birdy! is flying\n"
     ]
    }
   ],
   "source": [
    "bird1.fly()"
   ]
  },
  {
   "cell_type": "code",
   "execution_count": null,
   "metadata": {
    "collapsed": true
   },
   "outputs": [],
   "source": []
  }
 ],
 "metadata": {
  "kernelspec": {
   "display_name": "Python 2",
   "language": "python",
   "name": "python2"
  },
  "language_info": {
   "codemirror_mode": {
    "name": "ipython",
    "version": 2
   },
   "file_extension": ".py",
   "mimetype": "text/x-python",
   "name": "python",
   "nbconvert_exporter": "python",
   "pygments_lexer": "ipython2",
   "version": "2.7.11"
  }
 },
 "nbformat": 4,
 "nbformat_minor": 0
}
